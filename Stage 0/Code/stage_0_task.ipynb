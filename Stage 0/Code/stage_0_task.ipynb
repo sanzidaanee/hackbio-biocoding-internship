{
  "nbformat": 4,
  "nbformat_minor": 0,
  "metadata": {
    "colab": {
      "provenance": []
    },
    "kernelspec": {
      "name": "python3",
      "display_name": "Python 3"
    },
    "language_info": {
      "name": "python"
    }
  },
  "cells": [
    {
      "cell_type": "markdown",
      "source": [
        "#Topics: Coding Syntax, Data types and Data Structure\n",
        "\n",
        "##Task: Use any data structure of your choice to organize the following information\n",
        "\n",
        "Your names, Your slack username, Your email, Your hobby, Your countries, Your discipline, Your preferred programming language"
      ],
      "metadata": {
        "id": "MLuFjX2ERrmj"
      }
    },
    {
      "cell_type": "code",
      "source": [
        "\n",
        "# Storing the required information in a dictionary\n",
        "\n",
        "team_info= [\n",
        "    {\n",
        "        \"Name\": \"Kazadi Ngoie\",\n",
        "        \"Slack Username\": \"@Tatiene\",\n",
        "        \"Email\": \"tatianangoie17@gmail.com\",\n",
        "        \"Hobby\": \"Gaming\",\n",
        "        \"Country\": \"South Africa\",\n",
        "        \"Discipline\": \"Bioinformatics\",\n",
        "        \"Preferred Language\": \"Python\"\n",
        "    },\n",
        "    {\n",
        "        \"Name\": \"Bezaleel Akinbami\",\n",
        "        \"Slack Username\": \"@Bez\",\n",
        "        \"Email\": \"bezaleelakinbami16@gmail.com\",\n",
        "        \"Hobby\": \"Gaming\",\n",
        "        \"Country\": \"Nigeria\",\n",
        "        \"Discipline\": \"Bioinformatics \",\n",
        "        \"Preferred Language\": \"R\"\n",
        "    },\n",
        "    {\n",
        "        \"Name\": \"Hana Nadir\",\n",
        "        \"Slack Username\": \"@Hana\",\n",
        "        \"Email\": \"hananadir04@gmail.com\",\n",
        "        \"Hobby\": \"Reading\",\n",
        "        \"Country\": \"Sudan\",\n",
        "        \"Discipline\": \"Medecinal chemistery and drug discovery\",\n",
        "        \"Preferred Language\": \"Python\"\n",
        "    },\n",
        "    {\n",
        "        \"Name\": \"Onyinye Maryrose Ugwu \",\n",
        "        \"Slack Username\": \"@Onyinye\",\n",
        "        \"Email\": \"monyinye80@gmail.com\",\n",
        "        \"Hobby\": \"Travelling\",\n",
        "        \"Country\": \"Nigeria\",\n",
        "        \"Discipline\": \"Zoology\",\n",
        "        \"Preferred Language\": \"Python\"\n",
        "    },\n",
        "    {\n",
        "        \"Name\": \"Sanzida Akhter Anee\",\n",
        "        \"Slack Username\": \"@Sanzida\",\n",
        "        \"Email\": \"aneesanzidaakhter@gmail.com\",\n",
        "        \"Hobby\": \"Blogging\",\n",
        "        \"Country\": \"Bangladesh\",\n",
        "        \"Discipline\": \"Bioinformatics\",\n",
        "        \"Preferred Language\": \"Python\"\n",
        "    }\n",
        "]\n",
        "\n",
        "#to print all information in a structured way\n",
        "\n",
        "print(\"Team Members Information:\\n\")\n",
        "\n",
        "for member in team_info:\n",
        "    print(f\"Name: {member['Name']}\")\n",
        "    print(f\"Slack Username: {member['Slack Username']}\")\n",
        "    print(f\"Email: {member['Email']}\")\n",
        "    print(f\"Hobby: {member['Hobby']}\")\n",
        "    print(f\"Country: {member['Country']}\")\n",
        "    print(f\"Discipline: {member['Discipline']}\")\n",
        "    print(f\"Preferred Language: {member['Preferred Language']}\")\n",
        "    print(\"-\" * 40)  # Separator for better readability\n"
      ],
      "metadata": {
        "colab": {
          "base_uri": "https://localhost:8080/"
        },
        "id": "_FSPYpJhxTmf",
        "outputId": "77577db9-729e-47cd-b680-1997c8959c18"
      },
      "execution_count": null,
      "outputs": [
        {
          "output_type": "stream",
          "name": "stdout",
          "text": [
            "Team Members Information:\n",
            "\n",
            "Name: Kazadi Ngoie\n",
            "Slack Username: @Tatiene\n",
            "Email: tatianangoie17@gmail.com\n",
            "Hobby: Gaming\n",
            "Country: South Africa\n",
            "Discipline: Bioinformatics\n",
            "Preferred Language: Python\n",
            "----------------------------------------\n",
            "Name: Bezaleel Akinbami\n",
            "Slack Username: @Bez\n",
            "Email: bezaleelakinbami16@gmail.com\n",
            "Hobby: Gaming\n",
            "Country: Nigeria\n",
            "Discipline: Bioinformatics \n",
            "Preferred Language: R\n",
            "----------------------------------------\n",
            "Name: Hana Nadir\n",
            "Slack Username: @Hana\n",
            "Email: hananadir04@gmail.com\n",
            "Hobby: Reading\n",
            "Country: Sudan\n",
            "Discipline: Medecinal chemistery and drug discovery\n",
            "Preferred Language: Python\n",
            "----------------------------------------\n",
            "Name: Onyinye Maryrose Ugwu \n",
            "Slack Username: @Onyinye\n",
            "Email: monyinye80@gmail.com\n",
            "Hobby: Travelling\n",
            "Country: Nigeria\n",
            "Discipline: Zoology\n",
            "Preferred Language: Python\n",
            "----------------------------------------\n",
            "Name: Sanzida Akhter Anee\n",
            "Slack Username: @Sanzida\n",
            "Email: aneesanzidaakhter@gmail.com\n",
            "Hobby: Blogging\n",
            "Country: Bangladesh\n",
            "Discipline: Bioinformatics\n",
            "Preferred Language: Python\n",
            "----------------------------------------\n"
          ]
        }
      ]
    }
  ]
}