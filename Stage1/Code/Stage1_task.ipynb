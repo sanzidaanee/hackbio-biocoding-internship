{
  "nbformat": 4,
  "nbformat_minor": 0,
  "metadata": {
    "colab": {
      "provenance": []
    },
    "kernelspec": {
      "name": "python3",
      "display_name": "Python 3"
    },
    "language_info": {
      "name": "python"
    }
  },
  "cells": [
    {
      "cell_type": "markdown",
      "source": [
        "### Write a function for translating DNA to protein"
      ],
      "metadata": {
        "id": "2nRn11CdK-O3"
      }
    },
    {
      "cell_type": "code",
      "execution_count": null,
      "metadata": {
        "colab": {
          "base_uri": "https://localhost:8080/"
        },
        "id": "mL-9TRWEGRQB",
        "outputId": "ad0b089a-4560-43c2-8f86-4cb628608fd2"
      },
      "outputs": [
        {
          "output_type": "stream",
          "name": "stdout",
          "text": [
            "M?I?M??*K???*\n"
          ]
        }
      ],
      "source": [
        "dna_sequence = \"ATGGCCATTGTAATGGGCCGCTGAAAGGGTGCCCGATAG\"\n",
        "def translate_dna(dna_seq):\n",
        "    codon_table = {\n",
        "        'ATA': 'I', 'ATC': 'I', 'ATT': 'I', 'ATG': 'M',\n",
        "        'ACA': 'T', 'ACC': 'T', 'ACG': 'T', 'ACT': 'T',\n",
        "        'AAC': 'N', 'AAT': 'N', 'AAA': 'K', 'AAG': 'K',\n",
        "        'AGC': 'S', 'AGT': 'S', 'AGA': 'R', 'AGG': 'R',\n",
        "        'CTA': 'L', 'CTC': 'L', 'CTG': 'L', 'CTT': 'L',\n",
        "        'CCA': 'P', 'CCC': 'P', 'CCG': 'P', 'CCT': 'P',\n",
        "        'CAC': 'H', 'CAT': 'H', 'CAA': 'Q', 'CAG': 'Q',\n",
        "        'TAA': '*', 'TAG': '*', 'TGC': 'C', 'TGT': 'C',\n",
        "        'TGA': '*', 'TGG': 'W'\n",
        "    }\n",
        "\n",
        "    protein_seq = \"\"\n",
        "    for i in range(0, len(dna_seq) - len(dna_seq) % 3, 3):\n",
        "        codon = dna_seq[i:i + 3]\n",
        "        protein_seq += codon_table.get(codon, '?')  # '?' for unknown codons\n",
        "\n",
        "    return protein_seq\n",
        "\n",
        "protein = translate_dna(dna_sequence)\n",
        "print(protein)\n"
      ]
    },
    {
      "cell_type": "markdown",
      "source": [
        "### Write a function that simulates and generates a logistic population growth curve"
      ],
      "metadata": {
        "id": "6mSACK-5oEf0"
      }
    },
    {
      "cell_type": "code",
      "source": [
        "import numpy as np\n",
        "import matplotlib\n",
        "import matplotlib.pyplot as plt\n",
        "import matplotlib.pyplot as plt\n",
        "from scipy.integrate import odeint\n",
        "\n",
        "\n",
        "## logistic growth simulation\n",
        "\n",
        "y0 = [1] # start with 1 cell\n",
        "\n",
        "## Time array\n",
        "t = np.linspace(0,500,num=1000)\n",
        "\n",
        "r = 0.05\n",
        "K = 100000\n",
        "\n",
        "\n",
        "params = [r,K]\n",
        "\n",
        "\n",
        "def sim(variables,t,params):\n",
        "\n",
        "    X = variables[0]\n",
        "\n",
        "    r = params[0]\n",
        "    K = params[1]\n",
        "\n",
        "#Logistic growth equation\n",
        "\n",
        "    dXdt = r*X * (1 - X/K)\n",
        "\n",
        "    return([dXdt])\n",
        "\n",
        "# Simulate growth curve\n",
        "\n",
        "\n",
        "y = odeint(sim,y0, t, args=(params,))\n",
        "\n",
        "plt.title('Logistic Population Growth Curves')\n",
        "plt.plot(t,y[:,0])\n",
        "plt.xlabel(\"Time\")\n",
        "plt.ylabel(\"Population Size\")\n",
        "plt.show()"
      ],
      "metadata": {
        "colab": {
          "base_uri": "https://localhost:8080/",
          "height": 472
        },
        "id": "gBt__ApSLvmj",
        "outputId": "78034ed9-f73b-471f-c723-69f36f2ceaae"
      },
      "execution_count": null,
      "outputs": [
        {
          "output_type": "display_data",
          "data": {
            "text/plain": [
              "<Figure size 640x480 with 1 Axes>"
            ],
            "image/png": "[encoded data removed]"
          },
          "metadata": {}
        }
      ]
    },
    {
      "cell_type": "markdown",
      "source": [
        "###Using your function, generate a dataframe with 100 different growth curve"
      ],
      "metadata": {
        "id": "VYUqBIqySSwR"
      }
    },
    {
      "cell_type": "code",
      "source": [
        "# Generate a DataFrame with 100 different growth curves\n",
        "num_curves = 100\n",
        "time_points = np.arange(0, 100)  # Simulate over 100 time units\n",
        "df = pd.DataFrame({'Time': time_points})"
      ],
      "metadata": {
        "id": "WkPnH1qXSR-Y"
      },
      "execution_count": null,
      "outputs": []
    },
    {
      "cell_type": "markdown",
      "source": [
        "### Write a function for determining the time to reach 80% of the maximum growth; usually the carrying capacity"
      ],
      "metadata": {
        "id": "dENh5PubVBiK"
      }
    },
    {
      "cell_type": "code",
      "source": [
        "# Calculate time to 80% for the first 10 curves\n",
        "for i in range(10):\n",
        "    t_80 = time_to_80_percent(K=1000, P0=10, r=0.5)\n",
        "    print(f\"Curve {i+1}: Time to 80% of K = {t_80:.2f} time units\")"
      ],
      "metadata": {
        "id": "ntqoQtjeVANw"
      },
      "execution_count": null,
      "outputs": []
    },
    {
      "cell_type": "markdown",
      "source": [
        "### Finally, write a function for calculating the hamming distance between your Slack username and twitter/X handle (synthesize if you don’t have one)."
      ],
      "metadata": {
        "id": "VjU2wlLmnXhv"
      }
    },
    {
      "cell_type": "code",
      "source": [
        "social_media = [\"Sanzida\", \"aneeakhter\"]\n",
        ">>> def hamming_distance(slack_username, twitter_handle):\n",
        "...     return sum(1 for a, b in zip(slack_username, twitter_handle) if a != b)\n",
        "...\n",
        ">>> for slack_username in social_media:\n",
        "...     for twitter_handle in social_media:\n",
        "...         if slack_username != twitter_handle:\n",
        "...             distance = hamming_distance(slack_username, twitter_handle)\n",
        "...             print(f\"Hamming distance between {slack_username} and {twitter_handle}: {distance}\")"
      ],
      "metadata": {
        "colab": {
          "base_uri": "https://localhost:8080/"
        },
        "id": "WLX3NIRCncuk",
        "outputId": "857af6be-8625-4ac1-ea75-4b988e8b248a"
      },
      "execution_count": 5,
      "outputs": [
        {
          "output_type": "stream",
          "name": "stdout",
          "text": [
            "Hamming distance between Sanzida and aneeakhter: 7\n",
            "Hamming distance between aneeakhter and Sanzida: 7\n"
          ]
        }
      ]
    }
  ]
}